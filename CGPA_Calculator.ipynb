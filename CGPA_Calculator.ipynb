{
  "nbformat": 4,
  "nbformat_minor": 0,
  "metadata": {
    "colab": {
      "provenance": [],
      "authorship_tag": "ABX9TyPe0EhSr4nlm/WMrVTMxoSp",
      "include_colab_link": true
    },
    "kernelspec": {
      "name": "python3",
      "display_name": "Python 3"
    },
    "language_info": {
      "name": "python"
    }
  },
  "cells": [
    {
      "cell_type": "markdown",
      "metadata": {
        "id": "view-in-github",
        "colab_type": "text"
      },
      "source": [
        "<a href=\"https://colab.research.google.com/github/Chandrashekar0123/CGPA-Calculator/blob/main/CGPA_Calculator.ipynb\" target=\"_parent\"><img src=\"https://colab.research.google.com/assets/colab-badge.svg\" alt=\"Open In Colab\"/></a>"
      ]
    },
    {
      "cell_type": "code",
      "source": [
        "print('hello world')"
      ],
      "metadata": {
        "colab": {
          "base_uri": "https://localhost:8080/"
        },
        "id": "DWYGUYUeNlTu",
        "outputId": "542177ad-97d3-480d-cd0c-4ed4ddf6d3f6"
      },
      "execution_count": null,
      "outputs": [
        {
          "output_type": "stream",
          "name": "stdout",
          "text": [
            "hello world\n"
          ]
        }
      ]
    },
    {
      "cell_type": "markdown",
      "source": [
        "# **Problem Statement:**\n",
        "Develop a CGPA Calculator & Performance Prediction Web Application using Flask that allows students to input their subject grades and credits, compute their Cumulative Grade Point Average (CGPA), and predict their academic performance based on additional input features using a pre-trained machine learning model.\n"
      ],
      "metadata": {
        "id": "FeWra_4AmJxT"
      }
    },
    {
      "cell_type": "markdown",
      "source": [
        "\n",
        "**Project Description:**\n",
        "\n",
        "---\n",
        "\n",
        "\n",
        "\n",
        "\n",
        "This project builds a Flask-based web application that:\n",
        "\n",
        "Calculates CGPA based on the user's input of subject grades and credit hours.\n",
        "\n",
        "Predicts student performance using a trained machine learning model.\n",
        "\n",
        "Has a user-friendly web interface built with HTML, CSS, and Flask templates.\n",
        "\n",
        "Ensures error handling for invalid inputs (e.g., mismatched credit totals, missing values).\n",
        "\n",
        "Runs on a web server (accessible via 0.0.0.0:8080).\n",
        "\n",
        "This application can be further enhanced by deploying it on Google Cloud, AWS, or a dedicated server with a domain name for public access."
      ],
      "metadata": {
        "id": "AxWIRCr8c_Gu"
      }
    },
    {
      "cell_type": "code",
      "source": [
        "!pip install pyngrok\n",
        "!ngrok authtoken 2rwq2V6fDyu8gFhbDZDm4567rx5mxxwhBwo_4gh6fghwPq1yP8imGyUA4Z1xPN455555\n"
      ],
      "metadata": {
        "colab": {
          "base_uri": "https://localhost:8080/"
        },
        "id": "WABlTOWnI0OT",
        "outputId": "527a2ed5-c5ca-4903-e7fc-4dc963c7f6f8"
      },
      "execution_count": null,
      "outputs": [
        {
          "output_type": "stream",
          "name": "stdout",
          "text": [
            "Requirement already satisfied: pyngrok in /usr/local/lib/python3.11/dist-packages (7.2.3)\n",
            "Requirement already satisfied: PyYAML>=5.1 in /usr/local/lib/python3.11/dist-packages (from pyngrok) (6.0.2)\n",
            "Authtoken saved to configuration file: /root/.config/ngrok/ngrok.yml\n"
          ]
        }
      ]
    },
    {
      "cell_type": "code",
      "execution_count": null,
      "metadata": {
        "id": "ucqhKn1wHUSV",
        "collapsed": true
      },
      "outputs": [],
      "source": [
        "from flask import Flask, render_template, request\n",
        "from pyngrok import ngrok\n",
        "import os\n",
        "\n",
        "app = Flask(__name__)\n",
        "\n",
        "# Function to get grade points\n",
        "def get_grade_points(grade):\n",
        "    grade_mapping = {\n",
        "        'O': 10,  # 91-100\n",
        "        'A+': 9,  # 81-90\n",
        "        'A': 8,  # 71-80\n",
        "        'B+': 7,  # 61-70\n",
        "        'B': 6,  # 51-60\n",
        "        'C': 5   # 40-50\n",
        "    }\n",
        "    return grade_mapping.get(grade, 0)\n",
        "\n",
        "@app.route('/', methods=['GET', 'POST'])\n",
        "def index():\n",
        "    if request.method == 'POST':\n",
        "        try:\n",
        "            num_subjects = int(request.form['num_subjects'])\n",
        "            total_credits = int(request.form['total_credits'])\n",
        "            total_weighted_score = 0\n",
        "            total_subject_credits = 0\n",
        "\n",
        "            for i in range(num_subjects):\n",
        "                subject_credits = int(request.form[f'credit_{i}'])\n",
        "                grade = request.form[f'grade_{i}']\n",
        "\n",
        "                grade_points = get_grade_points(grade)\n",
        "                total_weighted_score += grade_points * subject_credits\n",
        "                total_subject_credits += subject_credits\n",
        "\n",
        "            if total_subject_credits != total_credits:\n",
        "                return render_template('index.html', error=\"Invalid count of credits. Total does not match.\")\n",
        "\n",
        "            if total_subject_credits == 0:\n",
        "                return render_template('index.html', error=\"Total subject credits cannot be zero.\")\n",
        "\n",
        "            cgpa = total_weighted_score / total_subject_credits\n",
        "            return render_template('index.html', cgpa=f\"Your CGPA is: {cgpa:.2f}\")\n",
        "        except ValueError:\n",
        "            return render_template('index.html', error=\"Please enter valid numbers for credits and subjects.\")\n",
        "\n",
        "    return render_template('index.html')\n",
        "\n",
        "if __name__ == '__main__':\n",
        "    public_url = ngrok.connect(5000).public_url\n",
        "    print(f\"Public URL: {public_url}\")\n",
        "    app.run()\n",
        "\n",
        "# HTML with embedded styles\n",
        "html_code = '''\n",
        "<!DOCTYPE html>\n",
        "<html lang=\"en\">\n",
        "<head>\n",
        "    <meta charset=\"UTF-8\">\n",
        "    <meta name=\"viewport\" content=\"width=device-width, initial-scale=1.0\">\n",
        "    <title>CGPA Calculator</title>\n",
        "    <style>\n",
        "        body {\n",
        "            font-family: Arial, sans-serif;\n",
        "            background-color: #f4f4f4;\n",
        "            text-align: center;\n",
        "            margin: 0;\n",
        "            padding: 20px;\n",
        "        }\n",
        "        .container {\n",
        "            background: white;\n",
        "            width: 50%;\n",
        "            margin: auto;\n",
        "            padding: 20px;\n",
        "            border-radius: 10px;\n",
        "            box-shadow: 0px 0px 10px rgba(0, 0, 0, 0.1);\n",
        "        }\n",
        "        input, select {\n",
        "            width: 80%;\n",
        "            padding: 10px;\n",
        "            margin: 5px 0 15px 0;\n",
        "            border-radius: 5px;\n",
        "            border: 1px solid #ddd;\n",
        "        }\n",
        "        .subject-container {\n",
        "            display: flex;\n",
        "            flex-direction: column;\n",
        "            align-items: center;\n",
        "            margin: 20px 0;\n",
        "            padding: 15px;\n",
        "            background: #f9f9f9;\n",
        "            border-radius: 5px;\n",
        "            box-shadow: 0px 0px 5px rgba(0, 0, 0, 0.1);\n",
        "            width: 90%;\n",
        "            margin-left: auto;\n",
        "            margin-right: auto;\n",
        "        }\n",
        "        button {\n",
        "            background-color: #28a745;\n",
        "            color: white;\n",
        "            padding: 10px 20px;\n",
        "            border: none;\n",
        "            border-radius: 5px;\n",
        "            cursor: pointer;\n",
        "            margin-top: 10px;\n",
        "        }\n",
        "        .result {\n",
        "            margin-top: 15px;\n",
        "            font-size: 20px;\n",
        "            font-weight: bold;\n",
        "        }\n",
        "    </style>\n",
        "    <script>\n",
        "        function generateInputs() {\n",
        "            let numSubjects = document.getElementById(\"num_subjects\").value;\n",
        "            let totalCredits = document.getElementById(\"total_credits\").value;\n",
        "            let container = document.getElementById(\"subjects-container\");\n",
        "            container.innerHTML = \"\";\n",
        "            document.getElementById(\"initial-inputs\").style.display = \"none\";\n",
        "\n",
        "            for (let i = 0; i < numSubjects; i++) {\n",
        "                container.innerHTML += `\n",
        "                    <div class=\"subject-container\">\n",
        "                        <label>Credits for Subject ${i+1}:</label>\n",
        "                        <input type=\"number\" name=\"credit_${i}\" required>\n",
        "                        <label>Grade:</label>\n",
        "                        <select name=\"grade_${i}\" required>\n",
        "                            <option value=\"O\">O</option>\n",
        "                            <option value=\"A+\">A+</option>\n",
        "                            <option value=\"A\">A</option>\n",
        "                            <option value=\"B+\">B+</option>\n",
        "                            <option value=\"B\">B</option>\n",
        "                            <option value=\"C\">C</option>\n",
        "                        </select>\n",
        "                    </div>\n",
        "                `;\n",
        "            }\n",
        "            container.innerHTML += '<button type=\"submit\">Calculate CGPA</button>';\n",
        "        }\n",
        "    </script>\n",
        "</head>\n",
        "<body>\n",
        "    <div class=\"container\">\n",
        "        <h2>CGPA Calculator</h2>\n",
        "        <form method=\"POST\">\n",
        "            <div id=\"initial-inputs\">\n",
        "                <label>Total Credits:</label>\n",
        "                <input type=\"number\" id=\"total_credits\" name=\"total_credits\" required>\n",
        "                <label>Number of Subjects:</label>\n",
        "                <input type=\"number\" id=\"num_subjects\" name=\"num_subjects\" oninput=\"generateInputs()\" required>\n",
        "            </div>\n",
        "            <div id=\"subjects-container\"></div>\n",
        "        </form>\n",
        "        {% if cgpa %}\n",
        "            <p class=\"result\">{{ cgpa }}</p>\n",
        "        {% elif error %}\n",
        "            <p class=\"result\" style=\"color: red;\">{{ error }}</p>\n",
        "        {% endif %}\n",
        "    </div>\n",
        "</body>\n",
        "</html>\n",
        "'''\n",
        "\n",
        "# Save the HTML file\n",
        "with open(\"templates/index.html\", \"w\") as f:\n",
        "    f.write(html_code)\n"
      ]
    }
  ]
}